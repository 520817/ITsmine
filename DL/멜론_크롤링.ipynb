{
 "cells": [
  {
   "cell_type": "code",
   "execution_count": 1,
   "id": "d9e03346",
   "metadata": {},
   "outputs": [],
   "source": [
    "import pandas as pd\n",
    "from selenium import webdriver #웹 브라우저 자동화\n",
    "import time\n",
    "from tqdm.notebook import tqdm"
   ]
  },
  {
   "cell_type": "code",
   "execution_count": 4,
   "id": "4c1c1186",
   "metadata": {},
   "outputs": [
    {
     "name": "stderr",
     "output_type": "stream",
     "text": [
      "C:\\Users\\hi\\AppData\\Local\\Temp\\ipykernel_2696\\3121284564.py:3: DeprecationWarning: executable_path has been deprecated, please pass in a Service object\n",
      "  driver = webdriver.Chrome(path)\n"
     ]
    }
   ],
   "source": [
    "#웹브라우저 설정\n",
    "path = \"chromedriver.exe\" \n",
    "driver = webdriver.Chrome(path)\n",
    "\n",
    "driver.get(\"https://www.melon.com/chart/index.htm\")\n",
    "time.sleep(2) #2초간 정지\n",
    "#이 코드를 실행하면 멜론 창이 뜨면서 Chrome이 자동화된 테스트 소프트웨어에 의해 제어되고 있다고 뜸 -> 성공"
   ]
  },
  {
   "cell_type": "markdown",
   "id": "b4024ecf",
   "metadata": {},
   "source": [
    "- By.ID\t태그의 id값으로 추출\n",
    "- By.NAME\t태그의 name값으로 추출\n",
    "- By.XPATH\t태그의 경로로 추출\n",
    "- By.LINK_TEXT\t링크 텍스트값으로 추출\n",
    "- By.PARTIAL_LINK_TEXT\t링크 텍스트의 자식 텍스트 값을 추출\n",
    "- By.TAG_NAME\t태그 이름으로 추출\n",
    "- By.CLASS_NAME\t태그의 클래스명으로 추출\n",
    "- By.CSS_SELECTOR\tcss선택자로 추출"
   ]
  },
  {
   "cell_type": "code",
   "execution_count": 18,
   "id": "8216fe31",
   "metadata": {},
   "outputs": [],
   "source": [
    "from selenium.webdriver.common.by import By\n",
    "title=driver.find_elements(By.CLASS_NAME, 'ellipsis.rank01')\n",
    "\n",
    "title2=[]\n",
    "for i in title:\n",
    "    title2.append(i.text)"
   ]
  },
  {
   "cell_type": "code",
   "execution_count": 21,
   "id": "7b78c386",
   "metadata": {},
   "outputs": [
    {
     "data": {
      "text/plain": [
       "['Seven (feat. Latto) - Clean Ver.',\n",
       " 'Super Shy',\n",
       " 'ETA',\n",
       " '헤어지자 말해요',\n",
       " '퀸카 (Queencard)',\n",
       " 'I AM',\n",
       " 'Fast Forward',\n",
       " '사막에서 꽃을 피우듯',\n",
       " 'Steal The Show (From “엘리멘탈”)',\n",
       " 'Spicy']"
      ]
     },
     "execution_count": 21,
     "metadata": {},
     "output_type": "execute_result"
    }
   ],
   "source": [
    "title2[:10]"
   ]
  },
  {
   "cell_type": "code",
   "execution_count": 22,
   "id": "7f273af2",
   "metadata": {},
   "outputs": [],
   "source": [
    "singer=driver.find_elements(By.CLASS_NAME, 'ellipsis.rank02')\n",
    "singer2=[]\n",
    "for i in singer:\n",
    "    singer2.append(i.text)"
   ]
  },
  {
   "cell_type": "code",
   "execution_count": 23,
   "id": "0bd14190",
   "metadata": {},
   "outputs": [
    {
     "data": {
      "text/plain": [
       "['정국',\n",
       " 'NewJeans',\n",
       " 'NewJeans',\n",
       " '박재정',\n",
       " '(여자)아이들',\n",
       " 'IVE (아이브)',\n",
       " '전소미',\n",
       " '우디 (Woody)',\n",
       " 'Lauv',\n",
       " 'aespa']"
      ]
     },
     "execution_count": 23,
     "metadata": {},
     "output_type": "execute_result"
    }
   ],
   "source": [
    "singer2[:10]"
   ]
  },
  {
   "cell_type": "code",
   "execution_count": 60,
   "id": "cc9e9f84",
   "metadata": {},
   "outputs": [],
   "source": [
    "songTagList = driver.find_elements(By.ID,'lst50')\n",
    "songTagList2 = driver.find_elements(By.ID,'lst100')\n",
    "number50=[]\n",
    "number100=[]\n",
    "for i in songTagList:\n",
    "    number50.append(i.get_attribute('data-song-no'))\n",
    "for i in songTagList2:\n",
    "    number100.append(i.get_attribute('data-song-no'))"
   ]
  },
  {
   "cell_type": "code",
   "execution_count": 61,
   "id": "d43c0435",
   "metadata": {},
   "outputs": [
    {
     "data": {
      "text/plain": [
       "50"
      ]
     },
     "execution_count": 61,
     "metadata": {},
     "output_type": "execute_result"
    }
   ],
   "source": [
    "len(number50)"
   ]
  },
  {
   "cell_type": "code",
   "execution_count": 62,
   "id": "65819454",
   "metadata": {},
   "outputs": [
    {
     "data": {
      "text/plain": [
       "50"
      ]
     },
     "execution_count": 62,
     "metadata": {},
     "output_type": "execute_result"
    }
   ],
   "source": [
    "len(number100)"
   ]
  },
  {
   "cell_type": "code",
   "execution_count": 72,
   "id": "63f401a9",
   "metadata": {},
   "outputs": [],
   "source": [
    "LYRIC=[]\n",
    "for i in number50:\n",
    "    driver.get(\"https://www.melon.com/song/detail.htm?songId=\" + i)\n",
    "    lyric=driver.find_element(By.CLASS_NAME,\"lyric\")\n",
    "    LYRIC.append(lyric.text)\n",
    "    \n",
    "for j in number100:\n",
    "    driver.get(\"https://www.melon.com/song/detail.htm?songId=\" + j)\n",
    "    lyric=driver.find_element(By.CLASS_NAME,\"lyric\")\n",
    "    LYRIC.append(lyric.text)  "
   ]
  },
  {
   "cell_type": "code",
   "execution_count": 73,
   "id": "ebd41070",
   "metadata": {},
   "outputs": [],
   "source": [
    "LYRIC2=[]\n",
    "for i in LYRIC:\n",
    "    LYRIC2.append(i.replace(\"\\n\",\"\"))"
   ]
  },
  {
   "cell_type": "code",
   "execution_count": 78,
   "id": "5770218f",
   "metadata": {},
   "outputs": [
    {
     "data": {
      "text/html": [
       "<div>\n",
       "<style scoped>\n",
       "    .dataframe tbody tr th:only-of-type {\n",
       "        vertical-align: middle;\n",
       "    }\n",
       "\n",
       "    .dataframe tbody tr th {\n",
       "        vertical-align: top;\n",
       "    }\n",
       "\n",
       "    .dataframe thead th {\n",
       "        text-align: right;\n",
       "    }\n",
       "</style>\n",
       "<table border=\"1\" class=\"dataframe\">\n",
       "  <thead>\n",
       "    <tr style=\"text-align: right;\">\n",
       "      <th></th>\n",
       "      <th>제목</th>\n",
       "      <th>가수</th>\n",
       "      <th>가사</th>\n",
       "    </tr>\n",
       "  </thead>\n",
       "  <tbody>\n",
       "    <tr>\n",
       "      <th>0</th>\n",
       "      <td>Seven (feat. Latto) - Clean Ver.</td>\n",
       "      <td>정국</td>\n",
       "      <td>Weight of the world on your shouldersI kiss yo...</td>\n",
       "    </tr>\n",
       "    <tr>\n",
       "      <th>1</th>\n",
       "      <td>Super Shy</td>\n",
       "      <td>NewJeans</td>\n",
       "      <td>I’m super shy, super shyBut wait a minute whil...</td>\n",
       "    </tr>\n",
       "    <tr>\n",
       "      <th>2</th>\n",
       "      <td>ETA</td>\n",
       "      <td>NewJeans</td>\n",
       "      <td>낭비하지 마 네 시간은 은행서둘러서 정리해 걔는 real bad받아주면 안돼No y...</td>\n",
       "    </tr>\n",
       "    <tr>\n",
       "      <th>3</th>\n",
       "      <td>헤어지자 말해요</td>\n",
       "      <td>박재정</td>\n",
       "      <td>헤어지자고 말하려 오늘너에게 가다가 우리 추억 생각해 봤어처음 본 네 얼굴마주친 눈...</td>\n",
       "    </tr>\n",
       "    <tr>\n",
       "      <th>4</th>\n",
       "      <td>퀸카 (Queencard)</td>\n",
       "      <td>(여자)아이들</td>\n",
       "      <td>Hey you뭘 보니? 내가 좀 Sexy Sexy 반했니Ye you뭐 하니? 너도 ...</td>\n",
       "    </tr>\n",
       "    <tr>\n",
       "      <th>...</th>\n",
       "      <td>...</td>\n",
       "      <td>...</td>\n",
       "      <td>...</td>\n",
       "    </tr>\n",
       "    <tr>\n",
       "      <th>95</th>\n",
       "      <td>빛이 나는 너에게</td>\n",
       "      <td>던 (DAWN)</td>\n",
       "      <td>그때 널 만나지 않았더라면지금의 우린 어디에 있을까가장 예쁠 때의 너를 만나서누가 ...</td>\n",
       "    </tr>\n",
       "    <tr>\n",
       "      <th>96</th>\n",
       "      <td>미친 사랑의 노래</td>\n",
       "      <td>김연지, DK(디셈버)</td>\n",
       "      <td>그렇게 대단한 운명까진바란적 없다 생각했는데그대 하나 떠나간 내 하룬 이제운명이 아...</td>\n",
       "    </tr>\n",
       "    <tr>\n",
       "      <th>97</th>\n",
       "      <td>Monologue</td>\n",
       "      <td>테이</td>\n",
       "      <td>다 잊었다는 거짓말또 해 버렸죠내 마음에 그대란 사람없다고 했죠너무나 쉽게 잊혀졌다...</td>\n",
       "    </tr>\n",
       "    <tr>\n",
       "      <th>98</th>\n",
       "      <td>Nxde</td>\n",
       "      <td>(여자)아이들</td>\n",
       "      <td>Why you think that ’bout nude’Cause your view’...</td>\n",
       "    </tr>\n",
       "    <tr>\n",
       "      <th>99</th>\n",
       "      <td>LOCKDOWN</td>\n",
       "      <td>이세계아이돌</td>\n",
       "      <td>oh you can't stop me못 멈춰 감히손끝 하나도 건드리지 못하는 경지점...</td>\n",
       "    </tr>\n",
       "  </tbody>\n",
       "</table>\n",
       "<p>100 rows × 3 columns</p>\n",
       "</div>"
      ],
      "text/plain": [
       "                                  제목            가수  \\\n",
       "0   Seven (feat. Latto) - Clean Ver.            정국   \n",
       "1                          Super Shy      NewJeans   \n",
       "2                                ETA      NewJeans   \n",
       "3                           헤어지자 말해요           박재정   \n",
       "4                     퀸카 (Queencard)       (여자)아이들   \n",
       "..                               ...           ...   \n",
       "95                         빛이 나는 너에게      던 (DAWN)   \n",
       "96                         미친 사랑의 노래  김연지, DK(디셈버)   \n",
       "97                         Monologue            테이   \n",
       "98                              Nxde       (여자)아이들   \n",
       "99                          LOCKDOWN        이세계아이돌   \n",
       "\n",
       "                                                   가사  \n",
       "0   Weight of the world on your shouldersI kiss yo...  \n",
       "1   I’m super shy, super shyBut wait a minute whil...  \n",
       "2   낭비하지 마 네 시간은 은행서둘러서 정리해 걔는 real bad받아주면 안돼No y...  \n",
       "3   헤어지자고 말하려 오늘너에게 가다가 우리 추억 생각해 봤어처음 본 네 얼굴마주친 눈...  \n",
       "4   Hey you뭘 보니? 내가 좀 Sexy Sexy 반했니Ye you뭐 하니? 너도 ...  \n",
       "..                                                ...  \n",
       "95  그때 널 만나지 않았더라면지금의 우린 어디에 있을까가장 예쁠 때의 너를 만나서누가 ...  \n",
       "96  그렇게 대단한 운명까진바란적 없다 생각했는데그대 하나 떠나간 내 하룬 이제운명이 아...  \n",
       "97  다 잊었다는 거짓말또 해 버렸죠내 마음에 그대란 사람없다고 했죠너무나 쉽게 잊혀졌다...  \n",
       "98  Why you think that ’bout nude’Cause your view’...  \n",
       "99  oh you can't stop me못 멈춰 감히손끝 하나도 건드리지 못하는 경지점...  \n",
       "\n",
       "[100 rows x 3 columns]"
      ]
     },
     "execution_count": 78,
     "metadata": {},
     "output_type": "execute_result"
    }
   ],
   "source": [
    "data=pd.DataFrame({\"제목\":title2,\"가수\":singer2,\"가사\":LYRIC2})\n",
    "data.to_csv(\"멜론 크롤링.csv\",  encoding='utf-8')\n",
    "data"
   ]
  }
 ],
 "metadata": {
  "kernelspec": {
   "display_name": "Python 3 (ipykernel)",
   "language": "python",
   "name": "python3"
  },
  "language_info": {
   "codemirror_mode": {
    "name": "ipython",
    "version": 3
   },
   "file_extension": ".py",
   "mimetype": "text/x-python",
   "name": "python",
   "nbconvert_exporter": "python",
   "pygments_lexer": "ipython3",
   "version": "3.9.10"
  }
 },
 "nbformat": 4,
 "nbformat_minor": 5
}
